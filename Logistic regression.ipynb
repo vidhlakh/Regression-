{
 "cells": [
  {
   "cell_type": "markdown",
   "metadata": {},
   "source": [
    "# Logistic Regression"
   ]
  },
  {
   "cell_type": "code",
   "execution_count": 1,
   "metadata": {},
   "outputs": [],
   "source": [
    "import pandas as pd \n",
    "import numpy as np\n",
    "from sklearn.model_selection import train_test_split\n",
    "import scipy.spatial\n",
    "from scipy.spatial.distance import euclidean\n",
    "from mpl_toolkits import mplot3d\n",
    "%matplotlib inline\n",
    "import matplotlib.pyplot as plt\n",
    "import statistics\n",
    "import sys\n",
    "import math\n",
    "from sklearn.model_selection import train_test_split\n",
    "from sklearn import preprocessing\n",
    "from sklearn.metrics import recall_score\n",
    "from sklearn.metrics import precision_score\n",
    "from sklearn.metrics import confusion_matrix\n",
    "from sklearn.metrics import classification_report\n",
    "from sklearn.metrics import accuracy_score\n",
    "from sklearn.metrics import f1_score\n",
    "\n",
    "Data = pd.read_csv(\"BSOM_DataSet_for_HW2.csv\")"
   ]
  },
  {
   "cell_type": "code",
   "execution_count": 2,
   "metadata": {},
   "outputs": [],
   "source": [
    "X = Data.loc[:,['all_mcqs_avg_n20','all_NBME_avg_n4']].values\n",
    "y= Data.loc[:,['LEVEL']].values\n",
    "#Xandy = Data.loc[:,['all_mcqs_avg_n20','all_NBME_avg_n4','LEVEL']]\n",
    "\n",
    "\n",
    "\n",
    "train_X, test_X = X[:74,:], X[74:,:]\n",
    "train_y, test_y = y[:74,:], y[74:,:]\n",
    "\n",
    "\n",
    "\n",
    "#train_X, test_X, train_y, test_y = train_test_split(X, y, test_size = 1/3, random_state = 0)\n",
    "#N,X_Feat = X_train.shape\n",
    "\n",
    "train_N, train_X_Features = train_X.shape"
   ]
  },
  {
   "cell_type": "code",
   "execution_count": null,
   "metadata": {},
   "outputs": [],
   "source": []
  },
  {
   "cell_type": "markdown",
   "metadata": {},
   "source": [
    "# Question 3a Logistic Regression with Multiple variable"
   ]
  },
  {
   "cell_type": "code",
   "execution_count": 4,
   "metadata": {},
   "outputs": [],
   "source": [
    "def sigmoid(z):\n",
    "    g_of_z= 1/(1+np.exp(-z))\n",
    "    return g_of_z\n",
    "\n",
    "def iteration(y_temp,DataXX,theta):\n",
    "    eta = 0.2\n",
    "    prev_theta = 0\n",
    "    for j in range(10000):\n",
    "        output = DataXX.dot(theta)\n",
    "        h = sigmoid(output)\n",
    "        errors =  sigmoid(output) - y_temp\n",
    "        cost_Fn = (-1/train_N)*np.sum((y_temp*np.log(h))+((1-y_temp)*np.log(1-h)))\n",
    "        prev_theta = theta\n",
    "        derivative = (1/train_N)* DataXX.T.dot(errors)\n",
    "        theta  = theta - (eta * derivative)\n",
    "        if(np.allclose(prev_theta,theta)):\n",
    "            print(\"break theta:\",theta)\n",
    "            break\n",
    "    #hypothesis = sigmoid(DataXX.dot(theta))\n",
    "    return theta"
   ]
  },
  {
   "cell_type": "code",
   "execution_count": 36,
   "metadata": {
    "scrolled": false
   },
   "outputs": [
    {
     "name": "stderr",
     "output_type": "stream",
     "text": [
      "C:\\ProgramData\\Anaconda3\\lib\\site-packages\\ipykernel_launcher.py:12: RuntimeWarning: divide by zero encountered in log\n",
      "  if sys.path[0] == '':\n",
      "C:\\ProgramData\\Anaconda3\\lib\\site-packages\\ipykernel_launcher.py:12: RuntimeWarning: invalid value encountered in multiply\n",
      "  if sys.path[0] == '':\n"
     ]
    },
    {
     "name": "stdout",
     "output_type": "stream",
     "text": [
      "break theta: [[  6.93013304]\n",
      " [ 24.03197047]\n",
      " [-36.19724331]]\n",
      "hypo final: [2 2 1 0 0 2 2 2 2 0 0 1 0 1 0 2 1 0 2 1 1 0 0 0 0 0 0 0 2 2 0 2 0 0 0 2 0\n",
      " 1 1 0 2 1 1 0 2 0 1 2 2 0 2 1 0 2 2 1 0 0 2 0 2 0 0 2 2 0 1 2 2 0 0 0 0 1]\n"
     ]
    }
   ],
   "source": [
    "\n",
    "DataXX = np.insert(train_X,0,1,axis=1)\n",
    "#np.random.seed(233)\n",
    "ttheta =np.random.randint(100,size= (train_X_Features+1, 1))\n",
    "\n",
    "iter=1000\n",
    "\n",
    "\n",
    "#A and not B,C,D\n",
    "y = Data.loc[:73,['LEVEL']]\n",
    "level = {'A': 1,'B': 0,'C':0,'D':0} \n",
    "y_copy = [level[item] for item in y.LEVEL]\n",
    "y_copy = np.asarray(y_copy)\n",
    "y_temp = y_copy[:,None]\n",
    "#print(\"y_copy 1:\",y_temp)\n",
    "#print(\"y_copy shape:\",y_temp.shape)\n",
    "theta_ovrA= iteration(y_temp,DataXX,ttheta)\n",
    "hA=sigmoid(DataXX.dot(theta_ovrA))\n",
    "#print(\"hypothesis\",hA)\n",
    "\n",
    "#B and not A,C,D\n",
    "y = Data.loc[:73,['LEVEL']]\n",
    "level = {'A': 0,'B': 1,'C':0,'D':0} \n",
    "y_copy = [level[item] for item in y.LEVEL]\n",
    "y_copy = np.asarray(y_copy)\n",
    "y_temp = y_copy[:,None]\n",
    "theta_ovrB=  iteration(y_temp,DataXX,ttheta)\n",
    "hB=sigmoid(DataXX.dot(theta_ovrB))\n",
    "#print(\"hypoB:\",hB)\n",
    "\n",
    "#C and not A,B,D\n",
    "y = Data.loc[:73,['LEVEL']]\n",
    "level = {'A': 0,'B': 0,'C':1,'D':0} \n",
    "y_copy = [level[item] for item in y.LEVEL]\n",
    "y_copy = np.asarray(y_copy)\n",
    "y_temp = y_copy[:,None]\n",
    "theta_ovrC=  iteration(y_temp,DataXX,ttheta)\n",
    "hC=sigmoid(DataXX.dot(theta_ovrC))\n",
    "#print(\"hypoC:\",hC)\n",
    "\n",
    "#D and not A,B,C\n",
    "y = Data.loc[:73,['LEVEL']]\n",
    "level = {'A': 0,'B': 0,'C':0,'D':1} \n",
    "y_copy= [level[item] for item in y.LEVEL]\n",
    "y_copy = np.asarray(y_copy)\n",
    "y_temp = y_copy[:,None]\n",
    "theta_ovrD=  iteration(y_temp,DataXX,ttheta)\n",
    "hD=sigmoid(DataXX.dot(theta_ovrD))\n",
    "#print(\"hypoD:\",hD)\n",
    "\n",
    "concat_hypo  = np.hstack([hA, hB, hC,hD])\n",
    "#print(\"hypo final:\",concat_hypo )\n",
    "#Return index of max values\n",
    "hypo_final = np.argmax(concat_hypo,axis =1)\n",
    "print(\"hypo final:\",hypo_final )"
   ]
  },
  {
   "cell_type": "code",
   "execution_count": 6,
   "metadata": {},
   "outputs": [
    {
     "name": "stdout",
     "output_type": "stream",
     "text": [
      "hypo final test: [2 0 2 0 0 1 1 1 0 1 1 2 2 0 1 1 0 0 1 2 0 0 2 0 1 0 0 0 1 1 1 2 1 2 1 0 2\n",
      " 0]\n"
     ]
    }
   ],
   "source": [
    "testDataXX = np.insert(test_X,0,1,axis=1)\n",
    "test_hA=sigmoid(testDataXX.dot(theta_ovrA))\n",
    "test_hB=sigmoid(testDataXX.dot(theta_ovrB))\n",
    "test_hC=sigmoid(testDataXX.dot(theta_ovrC))\n",
    "test_hD=sigmoid(testDataXX.dot(theta_ovrD))\n",
    "concat_hypo  = np.hstack([test_hA, test_hB, test_hC,test_hD])\n",
    "\n",
    "#Return index of max values\n",
    "y_pred = np.argmax(concat_hypo,axis =1)\n",
    "print(\"hypo final test:\",y_pred )"
   ]
  },
  {
   "cell_type": "markdown",
   "metadata": {},
   "source": [
    "# Question 3b Metrics "
   ]
  },
  {
   "cell_type": "code",
   "execution_count": 7,
   "metadata": {},
   "outputs": [],
   "source": [
    "y = Data.loc[:,['LEVEL']]\n",
    "level = {'A': 0,'B': 1,'C':2,'D':3} \n",
    "y_copy = [level[item] for item in y.LEVEL]\n",
    "y_copy = np.asarray(y_copy)\n",
    "y_train = y_copy[:74,None]\n",
    "y_test =  y_copy[74:,None]"
   ]
  },
  {
   "cell_type": "code",
   "execution_count": 8,
   "metadata": {},
   "outputs": [],
   "source": [
    "\n",
    "def confu_mat(y_test, y_pred):\n",
    "    print(confusion_matrix(y_test, y_pred))"
   ]
  },
  {
   "cell_type": "code",
   "execution_count": 9,
   "metadata": {},
   "outputs": [],
   "source": [
    "\n",
    "def recall(y_test, y_pred):\n",
    "    recall_score(y_test, y_pred, average='macro')  \n",
    "def precision(y_test, y_pred):\n",
    "    precision_score(y_test, y_pred, average='macro') "
   ]
  },
  {
   "cell_type": "code",
   "execution_count": 10,
   "metadata": {},
   "outputs": [],
   "source": [
    "def fscore(y_true, y_pred):\n",
    "    f1_macro = f1_score(y_test, y_pred, average='macro')  \n",
    "    print(\"F1 macro :\" ,f1_macro)\n",
    "    f1_micro  = f1_score(y_test, y_pred, average='micro')  \n",
    "    print(\"F1 micro :\" ,f1_micro)\n",
    "    f1_weighted = f1_score(y_test, y_pred, average='weighted')  \n",
    "    print(\"F1 weighted :\" ,f1_weighted)\n",
    "    f1 = f1_score(y_test, y_pred, average=None)\n",
    "    print(\"F1 score :\" ,f1)      \n",
    "          \n",
    "          \n",
    "          "
   ]
  },
  {
   "cell_type": "code",
   "execution_count": 11,
   "metadata": {},
   "outputs": [
    {
     "name": "stdout",
     "output_type": "stream",
     "text": [
      "[[ 7  0  0  0]\n",
      " [ 8 10  2  0]\n",
      " [ 0  3  6  0]\n",
      " [ 0  1  1  0]]\n",
      "F1 macro : 0.4728163992869875\n",
      "F1 micro : 0.6052631578947368\n",
      "F1 weighted : 0.5847171404446945\n",
      "F1 score : [0.63636364 0.58823529 0.66666667 0.        ]\n"
     ]
    },
    {
     "name": "stderr",
     "output_type": "stream",
     "text": [
      "C:\\ProgramData\\Anaconda3\\lib\\site-packages\\sklearn\\metrics\\classification.py:1135: UndefinedMetricWarning: Precision is ill-defined and being set to 0.0 in labels with no predicted samples.\n",
      "  'precision', 'predicted', average, warn_for)\n",
      "C:\\ProgramData\\Anaconda3\\lib\\site-packages\\sklearn\\metrics\\classification.py:1135: UndefinedMetricWarning: F-score is ill-defined and being set to 0.0 in labels with no predicted samples.\n",
      "  'precision', 'predicted', average, warn_for)\n"
     ]
    }
   ],
   "source": [
    "confu_mat(y_test, y_pred)\n",
    "precision(y_test, y_pred)\n",
    "recall(y_test, y_pred)\n",
    "fscore(y_test, y_pred)"
   ]
  },
  {
   "cell_type": "code",
   "execution_count": 12,
   "metadata": {},
   "outputs": [
    {
     "name": "stdout",
     "output_type": "stream",
     "text": [
      "             precision    recall  f1-score   support\n",
      "\n",
      "          A       0.47      1.00      0.64         7\n",
      "          B       0.71      0.50      0.59        20\n",
      "          C       0.67      0.67      0.67         9\n",
      "          D       0.00      0.00      0.00         2\n",
      "\n",
      "avg / total       0.62      0.61      0.58        38\n",
      "\n",
      "Accuracy: 0.6052631578947368\n"
     ]
    },
    {
     "name": "stderr",
     "output_type": "stream",
     "text": [
      "C:\\ProgramData\\Anaconda3\\lib\\site-packages\\sklearn\\metrics\\classification.py:1135: UndefinedMetricWarning: Precision and F-score are ill-defined and being set to 0.0 in labels with no predicted samples.\n",
      "  'precision', 'predicted', average, warn_for)\n"
     ]
    }
   ],
   "source": [
    "\n",
    "print(classification_report(y_test, y_pred, target_names=['A', 'B', 'C','D']))\n",
    "print(\"Accuracy:\",accuracy_score(y_test, y_pred))"
   ]
  },
  {
   "cell_type": "markdown",
   "metadata": {},
   "source": [
    "# Question 4a Feature scaling "
   ]
  },
  {
   "cell_type": "code",
   "execution_count": 14,
   "metadata": {},
   "outputs": [
    {
     "name": "stdout",
     "output_type": "stream",
     "text": [
      "hypo final: [2 1 1 0 0 1 2 1 2 1 1 1 0 1 0 2 1 1 2 1 1 1 1 0 1 0 0 0 2 2 1 2 0 0 1 2 1\n",
      " 1 1 0 2 1 1 0 2 0 1 2 1 1 2 1 0 2 2 1 0 0 1 0 2 0 0 2 2 1 1 2 2 0 1 0 0 1]\n",
      "hypo final test: [1 0 1 0 0 1 1 1 0 1 1 1 2 0 1 1 0 0 1 2 0 0 2 0 1 0 0 0 1 1 1 2 1 2 1 0 2\n",
      " 0]\n"
     ]
    }
   ],
   "source": [
    "mean_norm_X = train_X-np.mean(train_X)/(np.max(train_X)-np.min(train_X))\n",
    "DataXX = np.insert(mean_norm_X,0,1,axis=1)\n",
    "#np.random.seed(233)\n",
    "ttheta =np.random.randint(100,size= (train_X_Features+1, 1))\n",
    "\n",
    "iter=1000\n",
    "\n",
    "\n",
    "#A and not B,C,D\n",
    "y = Data.loc[:73,['LEVEL']]\n",
    "level = {'A': 1,'B': 0,'C':0,'D':0} \n",
    "y_copy = [level[item] for item in y.LEVEL]\n",
    "y_copy = np.asarray(y_copy)\n",
    "y_temp = y_copy[:,None]\n",
    "#print(\"y_copy 1:\",y_temp)\n",
    "#print(\"y_copy shape:\",y_temp.shape)\n",
    "theta_ovrA= iteration(y_temp,DataXX,ttheta)\n",
    "hA=sigmoid(DataXX.dot(theta_ovrA))\n",
    "#print(\"hypothesis\",hA)\n",
    "\n",
    "#B and not A,C,D\n",
    "y = Data.loc[:73,['LEVEL']]\n",
    "level = {'A': 0,'B': 1,'C':0,'D':0} \n",
    "y_copy = [level[item] for item in y.LEVEL]\n",
    "y_copy = np.asarray(y_copy)\n",
    "y_temp = y_copy[:,None]\n",
    "theta_ovrB=  iteration(y_temp,DataXX,ttheta)\n",
    "hB=sigmoid(DataXX.dot(theta_ovrB))\n",
    "#print(\"hypoB:\",hB)\n",
    "\n",
    "#C and not A,B,D\n",
    "y = Data.loc[:73,['LEVEL']]\n",
    "level = {'A': 0,'B': 0,'C':1,'D':0} \n",
    "y_copy = [level[item] for item in y.LEVEL]\n",
    "y_copy = np.asarray(y_copy)\n",
    "y_temp = y_copy[:,None]\n",
    "theta_ovrC=  iteration(y_temp,DataXX,ttheta)\n",
    "hC=sigmoid(DataXX.dot(theta_ovrC))\n",
    "#print(\"hypoC:\",hC)\n",
    "\n",
    "#D and not A,B,C\n",
    "y = Data.loc[:73,['LEVEL']]\n",
    "level = {'A': 0,'B': 0,'C':0,'D':1} \n",
    "y_copy= [level[item] for item in y.LEVEL]\n",
    "y_copy = np.asarray(y_copy)\n",
    "y_temp = y_copy[:,None]\n",
    "theta_ovrD=  iteration(y_temp,DataXX,ttheta)\n",
    "hD=sigmoid(DataXX.dot(theta_ovrD))\n",
    "#print(\"hypoD:\",hD)\n",
    "\n",
    "concat_hypo  = np.hstack([hA, hB, hC,hD])\n",
    "\n",
    "#Return index of max values\n",
    "hypo_final = np.argmax(concat_hypo,axis =1)\n",
    "print(\"hypo final:\",hypo_final )\n",
    "\n",
    "mean_norm_testX = test_X-np.mean(test_X)/(np.max(test_X)-np.min(test_X))\n",
    "testDataXX = np.insert(mean_norm_testX,0,1,axis=1)\n",
    "test_hA=sigmoid(testDataXX.dot(theta_ovrA))\n",
    "test_hB=sigmoid(testDataXX.dot(theta_ovrB))\n",
    "test_hC=sigmoid(testDataXX.dot(theta_ovrC))\n",
    "test_hD=sigmoid(testDataXX.dot(theta_ovrD))\n",
    "concat_hypo  = np.hstack([test_hA, test_hB, test_hC,test_hD])\n",
    "\n",
    "#Return index of max values\n",
    "y_pred = np.argmax(concat_hypo,axis =1)\n",
    "print(\"hypo final test:\",y_pred )"
   ]
  },
  {
   "cell_type": "code",
   "execution_count": 15,
   "metadata": {},
   "outputs": [
    {
     "name": "stdout",
     "output_type": "stream",
     "text": [
      "[[ 7  0  0  0]\n",
      " [ 8 11  1  0]\n",
      " [ 0  5  4  0]\n",
      " [ 0  1  1  0]]\n",
      "F1 macro : 0.44107289107289105\n",
      "F1 micro : 0.5789473684210527\n",
      "F1 weighted : 0.5564851933272986\n",
      "F1 score : [0.63636364 0.59459459 0.53333333 0.        ]\n"
     ]
    },
    {
     "name": "stderr",
     "output_type": "stream",
     "text": [
      "C:\\ProgramData\\Anaconda3\\lib\\site-packages\\sklearn\\metrics\\classification.py:1135: UndefinedMetricWarning: Precision is ill-defined and being set to 0.0 in labels with no predicted samples.\n",
      "  'precision', 'predicted', average, warn_for)\n",
      "C:\\ProgramData\\Anaconda3\\lib\\site-packages\\sklearn\\metrics\\classification.py:1135: UndefinedMetricWarning: F-score is ill-defined and being set to 0.0 in labels with no predicted samples.\n",
      "  'precision', 'predicted', average, warn_for)\n"
     ]
    }
   ],
   "source": [
    "confu_mat(y_test, y_pred)\n",
    "precision(y_test, y_pred)\n",
    "recall(y_test, y_pred)\n",
    "fscore(y_test, y_pred)"
   ]
  },
  {
   "cell_type": "code",
   "execution_count": 16,
   "metadata": {},
   "outputs": [
    {
     "name": "stdout",
     "output_type": "stream",
     "text": [
      "             precision    recall  f1-score   support\n",
      "\n",
      "          A       0.47      1.00      0.64         7\n",
      "          B       0.65      0.55      0.59        20\n",
      "          C       0.67      0.44      0.53         9\n",
      "          D       0.00      0.00      0.00         2\n",
      "\n",
      "avg / total       0.58      0.58      0.56        38\n",
      "\n",
      "Accuracy: 0.5789473684210527\n"
     ]
    },
    {
     "name": "stderr",
     "output_type": "stream",
     "text": [
      "C:\\ProgramData\\Anaconda3\\lib\\site-packages\\sklearn\\metrics\\classification.py:1135: UndefinedMetricWarning: Precision and F-score are ill-defined and being set to 0.0 in labels with no predicted samples.\n",
      "  'precision', 'predicted', average, warn_for)\n"
     ]
    }
   ],
   "source": [
    "print(classification_report(y_test, y_pred, target_names=['A', 'B', 'C','D']))\n",
    "print(\"Accuracy:\",accuracy_score(y_test, y_pred))"
   ]
  },
  {
   "cell_type": "markdown",
   "metadata": {},
   "source": [
    "# Question 4 b Regularization "
   ]
  },
  {
   "cell_type": "code",
   "execution_count": 34,
   "metadata": {},
   "outputs": [],
   "source": [
    "def sigmoid(z):\n",
    "    g_of_z= 1/(1+np.exp(-z))\n",
    "    return g_of_z\n",
    "\n",
    "def iterationr(y_temp,DataXX,theta,lamda):\n",
    "    eta = 0.2\n",
    "    prev_theta = 0\n",
    "    \n",
    "    for j in range(10000):\n",
    "        output = DataXX.dot(theta)\n",
    "        h = sigmoid(output)\n",
    "        \n",
    "        cost_Fn = (-1/train_N)*np.sum((y_temp*np.log(h))+((1-y_temp)*np.log(1-h)))+ lamda/(2*train_N) * sum(np.linalg.norm(theta,1,axis=0))\n",
    "        prev_theta = theta\n",
    "        derivative =  DataXX.T.dot(h-y_temp)\n",
    "        theta  = theta - (eta/train_N * derivative + theta*(lamda/train_N))\n",
    "        theta[0] = theta[0] - (eta/train_N)* DataXX.T.dot(h - y_temp)[0]\n",
    "        \n",
    "        #print(\"theta:\",  theta[0])\n",
    "        if(np.allclose(prev_theta,theta)):\n",
    "            print(\"break theta:\",theta,j)\n",
    "            break\n",
    "    #hypothesis = DataXX.dot(theta)\n",
    "    return theta"
   ]
  },
  {
   "cell_type": "code",
   "execution_count": 35,
   "metadata": {
    "scrolled": true
   },
   "outputs": [
    {
     "name": "stderr",
     "output_type": "stream",
     "text": [
      "C:\\ProgramData\\Anaconda3\\lib\\site-packages\\ipykernel_launcher.py:13: RuntimeWarning: divide by zero encountered in log\n",
      "  del sys.path[0]\n",
      "C:\\ProgramData\\Anaconda3\\lib\\site-packages\\ipykernel_launcher.py:13: RuntimeWarning: invalid value encountered in multiply\n",
      "  del sys.path[0]\n"
     ]
    },
    {
     "name": "stdout",
     "output_type": "stream",
     "text": [
      "hypo final for lambda  0.0001 : [2 2 1 0 0 2 2 2 2 0 0 2 0 2 0 2 2 0 2 1 1 1 1 0 1 0 0 0 2 2 0 2 0 0 1 2 1\n",
      " 2 2 0 2 2 2 0 2 0 1 2 2 1 2 2 0 2 2 1 0 0 2 0 2 0 0 2 2 0 2 2 2 0 1 0 0 1]\n",
      "hypo final test for lambda  0.0001 : [2 1 2 0 1 2 2 2 1 1 2 2 2 0 1 1 0 1 2 2 0 1 2 0 1 0 0 0 2 2 1 2 2 2 2 1 2\n",
      " 0]\n",
      "[[5 2 0 0]\n",
      " [4 8 8 0]\n",
      " [0 1 8 0]\n",
      " [0 0 2 0]]\n",
      "             precision    recall  f1-score   support\n",
      "\n",
      "          A       0.56      0.71      0.63         7\n",
      "          B       0.73      0.40      0.52        20\n",
      "          C       0.44      0.89      0.59         9\n",
      "          D       0.00      0.00      0.00         2\n",
      "\n",
      "avg / total       0.59      0.55      0.53        38\n",
      "\n",
      "Accuracy: 0.5526315789473685\n"
     ]
    },
    {
     "name": "stderr",
     "output_type": "stream",
     "text": [
      "C:\\ProgramData\\Anaconda3\\lib\\site-packages\\sklearn\\metrics\\classification.py:1135: UndefinedMetricWarning: Precision is ill-defined and being set to 0.0 in labels with no predicted samples.\n",
      "  'precision', 'predicted', average, warn_for)\n",
      "C:\\ProgramData\\Anaconda3\\lib\\site-packages\\sklearn\\metrics\\classification.py:1135: UndefinedMetricWarning: Precision and F-score are ill-defined and being set to 0.0 in labels with no predicted samples.\n",
      "  'precision', 'predicted', average, warn_for)\n"
     ]
    },
    {
     "name": "stdout",
     "output_type": "stream",
     "text": [
      "hypo final for lambda  0.001 : [2 2 1 0 0 2 2 2 2 0 0 2 0 2 0 2 2 0 2 1 1 1 1 0 1 0 0 0 2 2 0 2 0 0 1 2 1\n",
      " 2 2 0 2 2 1 0 2 0 1 2 2 1 2 1 0 2 2 1 0 0 2 0 2 0 0 2 2 0 2 2 2 0 0 0 0 1]\n",
      "hypo final test for lambda  0.001 : [2 1 2 0 1 2 1 2 1 1 2 2 2 0 1 1 0 0 2 2 0 1 2 0 1 0 0 0 2 2 1 2 2 2 2 1 2\n",
      " 0]\n",
      "[[5 2 0 0]\n",
      " [5 7 8 0]\n",
      " [0 1 8 0]\n",
      " [0 1 1 0]]\n",
      "             precision    recall  f1-score   support\n",
      "\n",
      "          A       0.50      0.71      0.59         7\n",
      "          B       0.64      0.35      0.45        20\n",
      "          C       0.47      0.89      0.62         9\n",
      "          D       0.00      0.00      0.00         2\n",
      "\n",
      "avg / total       0.54      0.53      0.49        38\n",
      "\n",
      "Accuracy: 0.5263157894736842\n",
      "hypo final for lambda  0.01 : [2 2 1 0 0 2 2 2 2 0 0 2 0 1 0 2 1 0 2 1 1 0 0 0 0 0 0 0 2 2 0 2 0 0 1 2 0\n",
      " 1 1 0 2 1 1 0 2 0 1 2 2 1 2 1 0 2 2 1 0 0 2 0 2 0 0 2 2 0 1 2 2 0 0 0 0 1]\n",
      "hypo final test for lambda  0.01 : [2 0 2 0 0 2 1 2 0 1 1 2 2 0 1 1 0 0 1 2 0 0 2 0 1 0 0 0 1 1 1 2 1 2 1 1 2\n",
      " 0]\n",
      "[[7 0 0 0]\n",
      " [7 9 4 0]\n",
      " [0 3 6 0]\n",
      " [0 1 1 0]]\n",
      "             precision    recall  f1-score   support\n",
      "\n",
      "          A       0.50      1.00      0.67         7\n",
      "          B       0.69      0.45      0.55        20\n",
      "          C       0.55      0.67      0.60         9\n",
      "          D       0.00      0.00      0.00         2\n",
      "\n",
      "avg / total       0.59      0.58      0.55        38\n",
      "\n",
      "Accuracy: 0.5789473684210527\n",
      "break theta: [[-2.88301446]\n",
      " [ 1.343123  ]\n",
      " [ 1.37664899]] 6190\n",
      "break theta: [[-0.51458614]\n",
      " [-0.09799437]\n",
      " [-0.01655936]] 9117\n",
      "break theta: [[ 1.64776476]\n",
      " [-1.618267  ]\n",
      " [-1.62799301]] 6085\n",
      "break theta: [[-1.57879369]\n",
      " [-0.80659631]\n",
      " [-1.00833391]] 6798\n",
      "hypo final for lambda  0.1 : [1 1 1 0 0 1 1 1 1 0 0 1 0 1 0 1 1 0 1 1 1 1 1 0 1 0 0 0 1 1 0 1 0 0 1 1 1\n",
      " 1 1 0 1 1 1 0 1 0 1 2 1 1 1 1 0 1 2 1 0 0 1 0 1 0 0 1 1 0 1 1 1 0 0 0 0 1]\n",
      "hypo final test for lambda  0.1 : [1 1 1 0 1 1 1 1 1 1 1 1 1 0 1 1 0 0 1 2 0 0 1 0 1 0 0 0 1 1 1 1 1 2 1 1 1\n",
      " 0]\n",
      "[[ 5  2  0  0]\n",
      " [ 6 14  0  0]\n",
      " [ 0  8  1  0]\n",
      " [ 0  1  1  0]]\n",
      "             precision    recall  f1-score   support\n",
      "\n",
      "          A       0.45      0.71      0.56         7\n",
      "          B       0.56      0.70      0.62        20\n",
      "          C       0.50      0.11      0.18         9\n",
      "          D       0.00      0.00      0.00         2\n",
      "\n",
      "avg / total       0.50      0.53      0.47        38\n",
      "\n",
      "Accuracy: 0.5263157894736842\n",
      "break theta: [[-1.73808748]\n",
      " [ 0.64985476]\n",
      " [ 0.6629167 ]] 3667\n",
      "break theta: [[-0.4435227 ]\n",
      " [-0.11638833]\n",
      " [-0.07888537]] 4281\n",
      "break theta: [[ 0.61887416]\n",
      " [-0.97496632]\n",
      " [-0.97577442]] 3534\n",
      "break theta: [[-1.63618386]\n",
      " [-0.73821194]\n",
      " [-0.851439  ]] 3702\n",
      "hypo final for lambda  0.2 : [1 1 1 0 1 1 1 1 1 1 1 1 0 1 0 1 1 1 1 1 1 1 1 0 1 0 0 0 1 1 1 1 0 0 1 1 1\n",
      " 1 1 0 1 1 1 0 1 0 1 1 1 1 1 1 0 1 1 1 0 0 1 0 1 0 0 1 1 1 1 1 1 1 1 0 0 1]\n",
      "hypo final test for lambda  0.2 : [1 1 1 1 1 1 1 1 1 1 1 1 1 1 1 1 1 1 1 1 0 1 1 1 1 1 1 0 1 1 1 1 1 1 1 1 1\n",
      " 1]\n",
      "[[ 2  5  0  0]\n",
      " [ 0 20  0  0]\n",
      " [ 0  9  0  0]\n",
      " [ 0  2  0  0]]\n",
      "             precision    recall  f1-score   support\n",
      "\n",
      "          A       1.00      0.29      0.44         7\n",
      "          B       0.56      1.00      0.71        20\n",
      "          C       0.00      0.00      0.00         9\n",
      "          D       0.00      0.00      0.00         2\n",
      "\n",
      "avg / total       0.48      0.58      0.46        38\n",
      "\n",
      "Accuracy: 0.5789473684210527\n",
      "break theta: [[-0.66621446]\n",
      " [ 0.0217495 ]\n",
      " [ 0.01959165]] 1108\n",
      "break theta: [[-0.35708675]\n",
      " [-0.12831868]\n",
      " [-0.12481483]] 982\n",
      "break theta: [[-0.28044759]\n",
      " [-0.37028502]\n",
      " [-0.37525378]] 906\n",
      "break theta: [[-1.39721632]\n",
      " [-0.56897739]\n",
      " [-0.6075593 ]] 877\n",
      "hypo final for lambda  1 : [1 1 1 1 1 1 1 1 1 1 1 1 1 1 1 1 1 1 1 1 1 1 1 1 1 1 1 1 1 1 1 1 1 1 1 1 1\n",
      " 1 1 1 1 1 1 1 1 1 1 1 1 1 1 1 1 1 1 1 1 1 1 1 1 1 1 1 1 1 1 1 1 1 1 1 1 1]\n",
      "hypo final test for lambda  1 : [1 1 1 1 1 1 1 1 1 1 1 1 1 1 1 1 1 1 1 1 1 1 1 1 1 1 1 1 1 1 1 1 1 1 1 1 1\n",
      " 1]\n",
      "[[ 0  7  0  0]\n",
      " [ 0 20  0  0]\n",
      " [ 0  9  0  0]\n",
      " [ 0  2  0  0]]\n",
      "             precision    recall  f1-score   support\n",
      "\n",
      "          A       0.00      0.00      0.00         7\n",
      "          B       0.53      1.00      0.69        20\n",
      "          C       0.00      0.00      0.00         9\n",
      "          D       0.00      0.00      0.00         2\n",
      "\n",
      "avg / total       0.28      0.53      0.36        38\n",
      "\n",
      "Accuracy: 0.5263157894736842\n",
      "break theta: [[-0.25135399]\n",
      " [-0.07043928]\n",
      " [-0.07344086]] 113\n",
      "break theta: [[-0.20011928]\n",
      " [-0.07784659]\n",
      " [-0.07995165]] 112\n",
      "break theta: [[-0.27759082]\n",
      " [-0.13609994]\n",
      " [-0.14029702]] 108\n",
      "break theta: [[-0.64141484]\n",
      " [-0.25487543]\n",
      " [-0.26623323]] 104\n",
      "hypo final for lambda  10 : [1 1 1 1 1 1 1 1 1 1 1 1 1 1 1 1 1 1 1 1 1 1 1 1 1 1 1 1 1 1 1 1 1 1 1 1 1\n",
      " 1 1 1 1 1 1 1 1 1 1 1 1 1 1 1 1 1 1 1 1 1 1 1 1 1 1 1 1 1 1 1 1 1 1 1 1 1]\n",
      "hypo final test for lambda  10 : [1 1 1 1 1 1 1 1 1 1 1 1 1 1 1 1 1 1 1 1 1 1 1 1 1 1 1 1 1 1 1 1 1 1 1 1 1\n",
      " 1]\n",
      "[[ 0  7  0  0]\n",
      " [ 0 20  0  0]\n",
      " [ 0  9  0  0]\n",
      " [ 0  2  0  0]]\n",
      "             precision    recall  f1-score   support\n",
      "\n",
      "          A       0.00      0.00      0.00         7\n",
      "          B       0.53      1.00      0.69        20\n",
      "          C       0.00      0.00      0.00         9\n",
      "          D       0.00      0.00      0.00         2\n",
      "\n",
      "avg / total       0.28      0.53      0.36        38\n",
      "\n",
      "Accuracy: 0.5263157894736842\n"
     ]
    }
   ],
   "source": [
    "\n",
    "\n",
    "\n",
    "DataXX = np.insert(train_X,0,1,axis=1)\n",
    "#np.random.seed(233)\n",
    "ttheta =np.random.randint(100,size= (train_X_Features+1, 1))\n",
    "\n",
    "\n",
    "lamda = [0.0001,0.001,0.01,0.1,0.2,1,10]\n",
    "for l in lamda:\n",
    "    #A and not B,C,D\n",
    "    y = Data.loc[:73,['LEVEL']]\n",
    "    level = {'A': 1,'B': 0,'C':0,'D':0} \n",
    "    y_copy = [level[item] for item in y.LEVEL]\n",
    "    y_copy = np.asarray(y_copy)\n",
    "    y_temp = y_copy[:,None]\n",
    "    #print(\"y_copy 1:\",y_temp)\n",
    "    #print(\"y_copy shape:\",y_temp.shape)\n",
    "    theta_ovrA= iterationr(y_temp,DataXX,ttheta,l)\n",
    "    hA=sigmoid(DataXX.dot(theta_ovrA))\n",
    "    #print(\"hypothesis\",hA)\n",
    "\n",
    "    #B and not A,C,D\n",
    "    y = Data.loc[:73,['LEVEL']]\n",
    "    level = {'A': 0,'B': 1,'C':0,'D':0} \n",
    "    y_copy = [level[item] for item in y.LEVEL]\n",
    "    y_copy = np.asarray(y_copy)\n",
    "    y_temp = y_copy[:,None]\n",
    "    theta_ovrB=  iterationr(y_temp,DataXX,ttheta,l)\n",
    "    hB=sigmoid(DataXX.dot(theta_ovrB))\n",
    "    #print(\"hypoB:\",hB)\n",
    "\n",
    "    #C and not A,B,D\n",
    "    y = Data.loc[:73,['LEVEL']]\n",
    "    level = {'A': 0,'B': 0,'C':1,'D':0} \n",
    "    y_copy = [level[item] for item in y.LEVEL]\n",
    "    y_copy = np.asarray(y_copy)\n",
    "    y_temp = y_copy[:,None]\n",
    "    theta_ovrC=  iterationr(y_temp,DataXX,ttheta,l)\n",
    "    hC=sigmoid(DataXX.dot(theta_ovrC))\n",
    "    #print(\"hypoC:\",hC)\n",
    "\n",
    "    #D and not A,B,C\n",
    "    y = Data.loc[:73,['LEVEL']]\n",
    "    level = {'A': 0,'B': 0,'C':0,'D':1} \n",
    "    y_copy= [level[item] for item in y.LEVEL]\n",
    "    y_copy = np.asarray(y_copy)\n",
    "    y_temp = y_copy[:,None]\n",
    "    theta_ovrD=  iterationr(y_temp,DataXX,ttheta,l)\n",
    "    hD=sigmoid(DataXX.dot(theta_ovrD))\n",
    "    #print(\"hypoD:\",hD)\n",
    "\n",
    "    concat_hypo  = np.hstack([hA, hB, hC,hD])\n",
    "\n",
    "    #Return index of max values\n",
    "    hypo_final = np.argmax(concat_hypo,axis =1)\n",
    "    print(\"hypo final for lambda \",l,\":\",hypo_final)\n",
    "\n",
    "    testDataXX = np.insert(test_X,0,1,axis=1)\n",
    "    test_hA=sigmoid(testDataXX.dot(theta_ovrA))\n",
    "    test_hB=sigmoid(testDataXX.dot(theta_ovrB))\n",
    "    test_hC=sigmoid(testDataXX.dot(theta_ovrC))\n",
    "    test_hD=sigmoid(testDataXX.dot(theta_ovrD))\n",
    "    concat_hypo  = np.hstack([test_hA, test_hB, test_hC,test_hD])\n",
    "\n",
    "    #Return index of max values\n",
    "    y_pred = np.argmax(concat_hypo,axis =1)\n",
    "    print(\"hypo final test for lambda \",l,\":\",y_pred)\n",
    "    confu_mat(y_test, y_pred)\n",
    "    precision(y_test, y_pred)\n",
    "    recall(y_test, y_pred)\n",
    "    print(classification_report(y_test, y_pred, target_names=['A', 'B', 'C','D']))\n",
    "    print(\"Accuracy:\",accuracy_score(y_test, y_pred))"
   ]
  },
  {
   "cell_type": "code",
   "execution_count": 19,
   "metadata": {},
   "outputs": [
    {
     "name": "stdout",
     "output_type": "stream",
     "text": [
      "[[ 0  7  0  0]\n",
      " [ 0 20  0  0]\n",
      " [ 0  9  0  0]\n",
      " [ 0  2  0  0]]\n"
     ]
    },
    {
     "name": "stderr",
     "output_type": "stream",
     "text": [
      "C:\\ProgramData\\Anaconda3\\lib\\site-packages\\sklearn\\metrics\\classification.py:1135: UndefinedMetricWarning: Precision is ill-defined and being set to 0.0 in labels with no predicted samples.\n",
      "  'precision', 'predicted', average, warn_for)\n"
     ]
    }
   ],
   "source": [
    "\n",
    "confu_mat(y_test, y_pred)\n",
    "precision(y_test, y_pred)\n",
    "recall(y_test, y_pred)\n",
    "#f1_score(y_test, y_pred)"
   ]
  },
  {
   "cell_type": "markdown",
   "metadata": {},
   "source": [
    "# Question 4c metrics"
   ]
  },
  {
   "cell_type": "code",
   "execution_count": 20,
   "metadata": {},
   "outputs": [
    {
     "name": "stdout",
     "output_type": "stream",
     "text": [
      "             precision    recall  f1-score   support\n",
      "\n",
      "          A       0.00      0.00      0.00         7\n",
      "          B       0.53      1.00      0.69        20\n",
      "          C       0.00      0.00      0.00         9\n",
      "          D       0.00      0.00      0.00         2\n",
      "\n",
      "avg / total       0.28      0.53      0.36        38\n",
      "\n",
      "Accuracy: 0.5263157894736842\n"
     ]
    },
    {
     "name": "stderr",
     "output_type": "stream",
     "text": [
      "C:\\ProgramData\\Anaconda3\\lib\\site-packages\\sklearn\\metrics\\classification.py:1135: UndefinedMetricWarning: Precision and F-score are ill-defined and being set to 0.0 in labels with no predicted samples.\n",
      "  'precision', 'predicted', average, warn_for)\n"
     ]
    }
   ],
   "source": [
    "print(classification_report(y_test, y_pred, target_names=['A', 'B', 'C','D']))\n",
    "print(\"Accuracy:\",accuracy_score(y_test, y_pred))"
   ]
  }
 ],
 "metadata": {
  "kernelspec": {
   "display_name": "Python 3",
   "language": "python",
   "name": "python3"
  },
  "language_info": {
   "codemirror_mode": {
    "name": "ipython",
    "version": 3
   },
   "file_extension": ".py",
   "mimetype": "text/x-python",
   "name": "python",
   "nbconvert_exporter": "python",
   "pygments_lexer": "ipython3",
   "version": "3.7.0"
  }
 },
 "nbformat": 4,
 "nbformat_minor": 2
}
